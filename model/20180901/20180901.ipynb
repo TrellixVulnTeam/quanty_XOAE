{
 "cells": [
  {
   "cell_type": "code",
   "execution_count": 1,
   "metadata": {
    "colab": {
     "autoexec": {
      "startup": false,
      "wait_interval": 0
     }
    },
    "colab_type": "code",
    "id": "9tBrXm8BV7BM",
    "scrolled": true
   },
   "outputs": [],
   "source": [
    "%matplotlib inline\n",
    "%load_ext autoreload\n",
    "%autoreload\n",
    "\n",
    "from quanty.model import backtester as q\n",
    "from quanty.model import plotter as pltr\n",
    "from quanty.model import setting\n",
    "from quanty.model.portfolio import Port\n",
    "import pandas as pd\n",
    "import numpy as np\n",
    "import matplotlib.pyplot as plt\n",
    "from IPython.core.debugger import set_trace"
   ]
  },
  {
   "cell_type": "code",
   "execution_count": 2,
   "metadata": {
    "collapsed": true
   },
   "outputs": [],
   "source": [
    "db = q.read_db(base='prices_global.pkl', add='prices_kr.pkl')"
   ]
  },
  {
   "cell_type": "code",
   "execution_count": 3,
   "metadata": {
    "collapsed": true
   },
   "outputs": [],
   "source": [
    "base_params = {\n",
    "    'start': '2002-12-31', \n",
    "    'end': '2018-03-31', \n",
    "    'db': db, \n",
    "    'assets': setting.assets_global_eq, \n",
    "    'price': {'price_src':'reprice', 'trade_tol':'at_close'}, \n",
    "    'trade': {\n",
    "        'trade_assets': [\n",
    "            #('BND_US_Long', {'BND_US_Interm':0.3, 'BND_US_Short':0.2}), \n",
    "            #('BND_US_Long', {'BND_US_Long':1.0}), \n",
    "        ], \n",
    "        'trade_prev_nav_based': True, \n",
    "        'trade_delay': 1, \n",
    "        'cash': 100000000, \n",
    "        'expense': 0.001, \n",
    "        'gr_exposure': 0.99, }, \n",
    "    'selecting': {\n",
    "        'mode': 'DualMomentum', #'DualMomentum', 'AbsoluteMomentum', 'RelativeMomentum'\n",
    "        'sig_mixer': {\n",
    "            'sig_w_base': [1,0,0,0,0,0,1,0,0,0,0,0], #[1,0,0,0,0,0,1,0,0,0.25*4,0.25*6,0.25*12]\n",
    "            'sig_w_dynamic': True, \n",
    "            'sig_dyn_fwd': [20,40,60], \n",
    "            'sig_dyn_m_backs': 24, \n",
    "            'sig_dyn_n_sample': 60, \n",
    "            'sig_dyn_thres': 0.1, }, \n",
    "        'market': 'ACWI', # None도 가능\n",
    "        'supporter': 'BND_US_Long', \n",
    "        'cash_equiv': 'BND_US_AGG', \n",
    "        'overwrite_to_bet': [], # base_params flattening 하므로, 반드시 list of tuple로 입력\n",
    "        'follow_trend': (20,60), \n",
    "        'follow_trend_market': (20, 60), \n",
    "        'n_picks': 10, }, \n",
    "    'weighting': {\n",
    "        'w_type': 'ranky2', \n",
    "        'eaa_wr': 1.0, \n",
    "        'eaa_wc': 1.0, \n",
    "        'eaa_wr_bnd': 0.5, \n",
    "        'eaa_short_period': 20, \n",
    "        'iv_period': 60, \n",
    "        'w_max': 1.0, }, \n",
    "    'stats_opts': {\n",
    "        'beta_to': 'ACWI', \n",
    "        'stats_n_roll': 250, }, \n",
    "    'reinforce': {\n",
    "        'follow_trend_supporter': (20, 60), \n",
    "        'support_cash': True, }, \n",
    "    'te_control': {\n",
    "        'bm': None, #'ACWI', \n",
    "        'te_target': None, \n",
    "        'te_k': 0.3, \n",
    "        'te_short_period': 20, \n",
    "        'te_short_up_down_ratio_cap': True, \n",
    "        'te_short_target_cap': True, \n",
    "        'te_smoother': False, \n",
    "        'safety_buffer': 0.8, }, \n",
    "    'cash_manager': {\n",
    "        'cm_method': None, #'cp', \n",
    "        'up_down_ratio_period': 20, \n",
    "        'kelly_type': 'semivariance', \n",
    "        'kelly_vol_period': 250, \n",
    "        'kelly_self_eval': True, }\n",
    "}"
   ]
  },
  {
   "cell_type": "code",
   "execution_count": 5,
   "metadata": {
    "scrolled": false
   },
   "outputs": [
    {
     "name": "stdout",
     "output_type": "stream",
     "text": [
      "2.105999708175659\n"
     ]
    },
    {
     "data": {
      "application/vnd.jupyter.widget-view+json": {
       "model_id": "509fe772838f4c63a2f40b5f1c8c1dc2"
      }
     },
     "metadata": {},
     "output_type": "display_data"
    },
    {
     "name": "stdout",
     "output_type": "stream",
     "text": [
      "\n"
     ]
    }
   ],
   "source": [
    "geam = q.Backtester(base_params, w_type='inv_ranky2')"
   ]
  },
  {
   "cell_type": "code",
   "execution_count": 7,
   "metadata": {},
   "outputs": [
    {
     "data": {
      "image/png": "[encoded data removed]",
      "text/plain": [
       "<matplotlib.figure.Figure at 0xdab2128>"
      ]
     },
     "metadata": {},
     "output_type": "display_data"
    }
   ],
   "source": [
    "strats = ['BND_US_AGG', 'ACWI', 'DualMomentum']\n",
    "names = ['AGG', 'ACWI', 'GEAM']\n",
    "color = ['k', 'orange', 'r']\n",
    "\n",
    "geam.plot_cum(strats, names=names, color=color, logy=False)"
   ]
  },
  {
   "cell_type": "code",
   "execution_count": 6,
   "metadata": {},
   "outputs": [
    {
     "data": {
      "text/html": [
       "<div>\n",
       "<style>\n",
       "    .dataframe thead tr:only-child th {\n",
       "        text-align: right;\n",
       "    }\n",
       "\n",
       "    .dataframe thead th {\n",
       "        text-align: left;\n",
       "    }\n",
       "\n",
       "    .dataframe tbody tr th {\n",
       "        vertical-align: top;\n",
       "    }\n",
       "</style>\n",
       "<table border=\"1\" class=\"dataframe\">\n",
       "  <thead>\n",
       "    <tr style=\"text-align: right;\">\n",
       "      <th></th>\n",
       "      <th>beta</th>\n",
       "      <th>cagr</th>\n",
       "      <th>cagr_roll_med</th>\n",
       "      <th>consistency</th>\n",
       "      <th>cum_last</th>\n",
       "      <th>hit</th>\n",
       "      <th>loss_proba</th>\n",
       "      <th>mdd</th>\n",
       "      <th>n_samples</th>\n",
       "      <th>profit_to_loss</th>\n",
       "      <th>sharpe</th>\n",
       "      <th>sharpe_roll_med</th>\n",
       "      <th>std</th>\n",
       "      <th>std_roll_med</th>\n",
       "    </tr>\n",
       "  </thead>\n",
       "  <tbody>\n",
       "    <tr>\n",
       "      <th>Indonesia</th>\n",
       "      <td>0.67</td>\n",
       "      <td>16.15</td>\n",
       "      <td>18.50</td>\n",
       "      <td>41.33</td>\n",
       "      <td>9.95</td>\n",
       "      <td>62.09</td>\n",
       "      <td>26.30</td>\n",
       "      <td>-72.14</td>\n",
       "      <td>3839</td>\n",
       "      <td>1.05</td>\n",
       "      <td>0.54</td>\n",
       "      <td>0.72</td>\n",
       "      <td>30.13</td>\n",
       "      <td>28.55</td>\n",
       "    </tr>\n",
       "    <tr>\n",
       "      <th>Peru</th>\n",
       "      <td>0.81</td>\n",
       "      <td>8.74</td>\n",
       "      <td>5.98</td>\n",
       "      <td>-141.96</td>\n",
       "      <td>2.10</td>\n",
       "      <td>54.81</td>\n",
       "      <td>41.51</td>\n",
       "      <td>-60.62</td>\n",
       "      <td>2210</td>\n",
       "      <td>1.18</td>\n",
       "      <td>0.40</td>\n",
       "      <td>0.31</td>\n",
       "      <td>21.91</td>\n",
       "      <td>19.76</td>\n",
       "    </tr>\n",
       "    <tr>\n",
       "      <th>UK</th>\n",
       "      <td>1.10</td>\n",
       "      <td>6.01</td>\n",
       "      <td>11.88</td>\n",
       "      <td>9.05</td>\n",
       "      <td>2.45</td>\n",
       "      <td>58.79</td>\n",
       "      <td>32.09</td>\n",
       "      <td>-63.99</td>\n",
       "      <td>3839</td>\n",
       "      <td>0.99</td>\n",
       "      <td>0.26</td>\n",
       "      <td>0.69</td>\n",
       "      <td>23.08</td>\n",
       "      <td>17.92</td>\n",
       "    </tr>\n",
       "    <tr>\n",
       "      <th>Sweden</th>\n",
       "      <td>1.37</td>\n",
       "      <td>11.90</td>\n",
       "      <td>17.81</td>\n",
       "      <td>22.90</td>\n",
       "      <td>5.62</td>\n",
       "      <td>56.59</td>\n",
       "      <td>32.40</td>\n",
       "      <td>-68.07</td>\n",
       "      <td>3839</td>\n",
       "      <td>1.27</td>\n",
       "      <td>0.40</td>\n",
       "      <td>0.79</td>\n",
       "      <td>30.09</td>\n",
       "      <td>22.93</td>\n",
       "    </tr>\n",
       "    <tr>\n",
       "      <th>DualMomentum</th>\n",
       "      <td>0.20</td>\n",
       "      <td>16.55</td>\n",
       "      <td>16.65</td>\n",
       "      <td>96.33</td>\n",
       "      <td>10.49</td>\n",
       "      <td>63.19</td>\n",
       "      <td>7.41</td>\n",
       "      <td>-21.29</td>\n",
       "      <td>3839</td>\n",
       "      <td>1.42</td>\n",
       "      <td>1.08</td>\n",
       "      <td>1.16</td>\n",
       "      <td>15.33</td>\n",
       "      <td>14.74</td>\n",
       "    </tr>\n",
       "  </tbody>\n",
       "</table>\n",
       "</div>"
      ],
      "text/plain": [
       "              beta   cagr  cagr_roll_med  consistency  cum_last    hit  \\\n",
       "Indonesia     0.67  16.15          18.50        41.33      9.95  62.09   \n",
       "Peru          0.81   8.74           5.98      -141.96      2.10  54.81   \n",
       "UK            1.10   6.01          11.88         9.05      2.45  58.79   \n",
       "Sweden        1.37  11.90          17.81        22.90      5.62  56.59   \n",
       "DualMomentum  0.20  16.55          16.65        96.33     10.49  63.19   \n",
       "\n",
       "              loss_proba    mdd  n_samples  profit_to_loss  sharpe  \\\n",
       "Indonesia          26.30 -72.14       3839            1.05    0.54   \n",
       "Peru               41.51 -60.62       2210            1.18    0.40   \n",
       "UK                 32.09 -63.99       3839            0.99    0.26   \n",
       "Sweden             32.40 -68.07       3839            1.27    0.40   \n",
       "DualMomentum        7.41 -21.29       3839            1.42    1.08   \n",
       "\n",
       "              sharpe_roll_med    std  std_roll_med  \n",
       "Indonesia                0.72  30.13         28.55  \n",
       "Peru                     0.31  21.91         19.76  \n",
       "UK                       0.69  23.08         17.92  \n",
       "Sweden                   0.79  30.09         22.93  \n",
       "DualMomentum             1.16  15.33         14.74  "
      ]
     },
     "execution_count": 6,
     "metadata": {},
     "output_type": "execute_result"
    }
   ],
   "source": [
    "geam.stats.tail()"
   ]
  },
  {
   "cell_type": "code",
   "execution_count": null,
   "metadata": {
    "collapsed": true
   },
   "outputs": [],
   "source": []
  },
  {
   "cell_type": "code",
   "execution_count": null,
   "metadata": {
    "collapsed": true
   },
   "outputs": [],
   "source": []
  },
  {
   "cell_type": "code",
   "execution_count": null,
   "metadata": {
    "collapsed": true
   },
   "outputs": [],
   "source": []
  }
 ],
 "metadata": {
  "accelerator": "GPU",
  "colab": {
   "collapsed_sections": [
    "8KOdtUvgBg2j",
    "xGcSVcB5vUwR",
    "zeVSGm6XtP3Z",
    "gWcaS97Iukyz",
    "bryDHDhivEDi",
    "yika28qJu0hL",
    "4NRriPxF81qY",
    "L7_wBm4DRai9",
    "IPcJgVP3T7WG",
    "RcShH_Cr9_Nm",
    "iYGKINDLIst_",
    "Jj_WIJZkHVNG",
    "ViasqMU-HbQ8",
    "fXZ2k5_cHf4I",
    "O2ZT70h3HjUZ",
    "MTf8trulHmmL",
    "beDYGvdk8Bp9",
    "B0qxh9XJZeFQ",
    "GeEVQQa-J88K"
   ],
   "default_view": {},
   "name": "controller.ipynb",
   "provenance": [],
   "toc_visible": true,
   "version": "0.3.2",
   "views": {}
  },
  "kernelspec": {
   "display_name": "Python 3",
   "language": "python",
   "name": "python3"
  },
  "language_info": {
   "codemirror_mode": {
    "name": "ipython",
    "version": 3
   },
   "file_extension": ".py",
   "mimetype": "text/x-python",
   "name": "python",
   "nbconvert_exporter": "python",
   "pygments_lexer": "ipython3",
   "version": "3.6.1"
  }
 },
 "nbformat": 4,
 "nbformat_minor": 1
}
