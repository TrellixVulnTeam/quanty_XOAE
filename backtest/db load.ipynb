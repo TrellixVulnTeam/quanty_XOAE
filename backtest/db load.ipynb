{
 "cells": [
  {
   "cell_type": "code",
   "execution_count": 115,
   "metadata": {},
   "outputs": [],
   "source": [
    "%matplotlib inline\n",
    "import yfinance as yf\n",
    "import pandas as pd\n",
    "from IPython.core.debugger import set_trace"
   ]
  },
  {
   "cell_type": "code",
   "execution_count": 155,
   "metadata": {},
   "outputs": [],
   "source": [
    "assets = {\n",
    "    'ACWI': 'acwi_ishares_acwi',\n",
    "    'SPY' : 'spy_spdr_us',\n",
    "    \n",
    "    'RXI' : 'rxi_ishares_consumer_disc_global',\n",
    "    'KXI' : 'kxi_ishares_consumer_stp_global',\n",
    "    'IXC' : 'ixc_ishares_energy_global',\n",
    "    'IXG' : 'ixg_ishares_financial_global',\n",
    "    'IXJ' : 'ixj_ishares_healthcare_global',\n",
    "    'EXI' : 'exi_ishares_industrial_global',\n",
    "    'MXI' : 'mxi_ishares_material_global',\n",
    "    'IXN' : 'ixn_ishares_tech_global',\n",
    "    'IXP' : 'ixp_ishares_telcom_global',\n",
    "    'JXI' : 'jxi_ishares_util_global',\n",
    "    'RWX' : 'rwx_spdr_global_reit',\n",
    "\n",
    "    'CARZ' : 'carz_firstrust_automotive',\n",
    "    'IYC' : 'iyc_ishares_consumer_service',\n",
    "    'BJK' : 'bjk_vaneck_gaming',\n",
    "    'PBS' : 'pbs_invesco_media',\n",
    "    'IBUY' : 'ibuy_amplify_online_retail',\n",
    "\n",
    "    'IYK' : 'iyk_ishares_consumer_goods',\n",
    "    'PBJ' : 'pbj_invesco_food_beverage',\n",
    "\n",
    "    'AMLP' : 'amlp_alerian_mlp',\n",
    "    'FCG' : 'fcg_firstrust_natural_gas',\n",
    "    'XOP' : 'xop_spdr_exploration',\n",
    "    'OIH' : 'oih_vaneck_oil_service',\n",
    "    'TAN' : 'tan_invesco_solar',\n",
    "    'FAN' : 'fan_firstrust_wind',\n",
    "\n",
    "    'KBE' : 'kbe_spdr_bank',\n",
    "    'IAI' : 'iai_ishares_broker',\n",
    "    'BIZD' : 'bizd_vaneck_bdc',\n",
    "    'KCE' : 'kce_spdr_capital_market',\n",
    "    'QABA' : 'qaba_firstrust_community_bank',\n",
    "    'IYG' : 'iyg_ishares_financial_service',\n",
    "    'KIE' : 'kie_spdr_insurance',\n",
    "    'PSP' : 'psp_invesco_pe',\n",
    "    'KRE' : 'kre_spdr_regional_bank',\n",
    "\n",
    "    'IBB' : 'ibb_ishares_bio',\n",
    "    'IHF' : 'ihf_ishares_healthcare_service',\n",
    "    'IHI' : 'ihi_ishares_medical_device',\n",
    "    'PJP' : 'pjp_invesco_pharma',\n",
    "\n",
    "    'ITA' : 'ita_ishares_aerospace',\n",
    "    'JETS' : 'jets_usglobal_airlines',\n",
    "    'IYT' : 'iyt_ishares_transportation',\n",
    "    'CGW' : 'cgw_invesco_water',\n",
    "\n",
    "    'MOO' : 'moo_vaneck_agribiz',\n",
    "    'GDX' : 'gdx_vaneck_gold_miner',\n",
    "    'SIL' : 'sil_globalx_silver_miner',\n",
    "    'ITB' : 'itb_ishares_homebuilder',\n",
    "    'LIT' : 'lit_globalx_lithium',\n",
    "    'PICK' : 'pick_ishares_metal_mining',\n",
    "    'GUNR' : 'gunr_flexshares_natural_resource',\n",
    "    'SLX' : 'slx_vaneck_steel',\n",
    "    'WOOD' : 'wood_ishares_timber',\n",
    "    'URA' : 'ura_globalx_uranium',\n",
    "\n",
    "    'SKYY' : 'skyy_firstrust_cloud',\n",
    "    'FDN' : 'fdn_firstrust_internet',\n",
    "    'CIBR' : 'cibr_firstrust_cybersecurity',\n",
    "    'PXQ' : 'pxq_invesco_networking',\n",
    "    'SOXX' : 'soxx_ishares_semiconductor',\n",
    "    'SOCL' : 'socl_globalx_sns',\n",
    "    'IGV' : 'igv_ishares_software',\n",
    "\n",
    "    'IGF' : 'igf_ishares_infra',\n",
    "\n",
    "    'VNQ' : 'vnq_vanguard_us_reit',\n",
    "    'REM' : 'rem_ishares_us_mortgage_reit',\n",
    "    \n",
    "    'QUAL' : 'qual_ishares_qual',\n",
    "    'IVE' : 'ive_ishares_value',\n",
    "    'IVW' : 'ivw_ishares_growth',\n",
    "    'MTUM' : 'mtum_ishares_mtum',\n",
    "    'EEMO' : 'eemo_pshares_mtum_em',\n",
    "    'VIG' : 'vig_vanguard_dvd_apprec',\n",
    "    'DVY' : 'dvy_ishares_high_dvd',\n",
    "    'SPHB' : 'sphb_pshares_high_beta',\n",
    "    'USLB' : 'uslb_pshares_low_beta',\n",
    "    'SPLV' : 'splv_pshares_low_vol',\n",
    "    'COWZ' : 'cowz_pacer_fcf',\n",
    "    'DEF' : 'def_pshares_defensive',\n",
    "    'EUSA' : 'eusa_ishares_ew',\n",
    "    'CSM' : 'csm_pshares_130_30',\n",
    "    'SHE' : 'she_spdr_gender',\n",
    "    'QYLD' : 'qyld_horizons_covered_call',\n",
    "    'GVIP' : 'gvip_gs_hedgefund_hold',\n",
    "    'MOAT' : 'moat_vaneck_moat',\n",
    "    'FTLS' : 'ftls_firstrust_long_short',\n",
    "    'WTMF' : 'wtmf_wisdomtree_mgd_futs',\n",
    "    'MNA' : 'mna_iq_m&a',\n",
    "    'SUSA' : 'susa_ishares_esg',\n",
    "    'IPO' : 'ipo_renaissance_ipo',\n",
    "    'KNOW' : 'know_direxion_insider',\n",
    "    'NFO' : 'nfo_pshares_insider',\n",
    "    'IWM' : 'iwm_ishares_smallcap',\n",
    "    'XRLV' : 'xrlv_pshares_xrate_sen_lowvol',\n",
    "}"
   ]
  },
  {
   "cell_type": "code",
   "execution_count": 156,
   "metadata": {},
   "outputs": [
    {
     "name": "stdout",
     "output_type": "stream",
     "text": [
      "[*********************100%***********************]  90 of 90 completed\n"
     ]
    }
   ],
   "source": [
    "symbols = ' '.join(assets.keys())\n",
    "start = '2008-12-20'\n",
    "end = '2020-10-05'\n",
    "db = yf.download(symbols, start=start, end=end, threads=True)['Adj Close']\n",
    "db = db.rename(columns=assets).fillna(method='ffill')"
   ]
  },
  {
   "cell_type": "code",
   "execution_count": 150,
   "metadata": {},
   "outputs": [],
   "source": [
    "def rebuild(symbol, pkl='prices_global.pkl'):\n",
    "    market = db[symbol]\n",
    "    support = pd.read_pickle(pkl).reprice.unstack()[symbol].loc[market.index[0]:]\n",
    "    df_r = pd.DataFrame({'support':support, 'market':market}).fillna(method='ffill').pct_change()\n",
    "    df_p = (df_r.market.combine_first(df_r.support).fillna(0) + 1).cumprod()\n",
    "    return df_p / df_p[-1] * market[-1]"
   ]
  },
  {
   "cell_type": "code",
   "execution_count": 151,
   "metadata": {},
   "outputs": [
    {
     "data": {
      "text/plain": [
       "<AxesSubplot:xlabel='Date'>"
      ]
     },
     "execution_count": 151,
     "metadata": {},
     "output_type": "execute_result"
    },
    {
     "data": {
      "image/png": "[encoded data removed]",
      "text/plain": [
       "<Figure size 432x288 with 1 Axes>"
      ]
     },
     "metadata": {
      "needs_background": "light"
     },
     "output_type": "display_data"
    }
   ],
   "source": [
    "rebuild('xrlv_pshares_xrate_sen_lowvol', pkl='prices_global.pkl').plot()\n",
    "db['xrlv_pshares_xrate_sen_lowvol'].plot()"
   ]
  },
  {
   "cell_type": "code",
   "execution_count": 157,
   "metadata": {
    "scrolled": true
   },
   "outputs": [],
   "source": [
    "for name in assets.values():\n",
    "    db[name] = rebuild(name, pkl='prices_global.pkl')"
   ]
  },
  {
   "cell_type": "code",
   "execution_count": 158,
   "metadata": {},
   "outputs": [
    {
     "data": {
      "text/html": [
       "<div>\n",
       "<style scoped>\n",
       "    .dataframe tbody tr th:only-of-type {\n",
       "        vertical-align: middle;\n",
       "    }\n",
       "\n",
       "    .dataframe tbody tr th {\n",
       "        vertical-align: top;\n",
       "    }\n",
       "\n",
       "    .dataframe thead th {\n",
       "        text-align: right;\n",
       "    }\n",
       "</style>\n",
       "<table border=\"1\" class=\"dataframe\">\n",
       "  <thead>\n",
       "    <tr style=\"text-align: right;\">\n",
       "      <th></th>\n",
       "      <th></th>\n",
       "      <th>close</th>\n",
       "      <th>high</th>\n",
       "      <th>low</th>\n",
       "      <th>underlying</th>\n",
       "      <th>reprice</th>\n",
       "    </tr>\n",
       "    <tr>\n",
       "      <th>Date</th>\n",
       "      <th></th>\n",
       "      <th></th>\n",
       "      <th></th>\n",
       "      <th></th>\n",
       "      <th></th>\n",
       "      <th></th>\n",
       "    </tr>\n",
       "  </thead>\n",
       "  <tbody>\n",
       "    <tr>\n",
       "      <th rowspan=\"5\" valign=\"top\">2008-12-19</th>\n",
       "      <th>acwi_ishares_acwi</th>\n",
       "      <td>24.765001</td>\n",
       "      <td>24.765001</td>\n",
       "      <td>24.765001</td>\n",
       "      <td>24.765001</td>\n",
       "      <td>24.765001</td>\n",
       "    </tr>\n",
       "    <tr>\n",
       "      <th>amlp_alerian_mlp</th>\n",
       "      <td>16.443199</td>\n",
       "      <td>16.443199</td>\n",
       "      <td>16.443199</td>\n",
       "      <td>16.443199</td>\n",
       "      <td>16.443199</td>\n",
       "    </tr>\n",
       "    <tr>\n",
       "      <th>bizd_vaneck_bdc</th>\n",
       "      <td>3.527480</td>\n",
       "      <td>3.527480</td>\n",
       "      <td>3.527480</td>\n",
       "      <td>3.527480</td>\n",
       "      <td>3.527480</td>\n",
       "    </tr>\n",
       "    <tr>\n",
       "      <th>bjk_vaneck_gaming</th>\n",
       "      <td>12.103403</td>\n",
       "      <td>12.103403</td>\n",
       "      <td>12.103403</td>\n",
       "      <td>12.103403</td>\n",
       "      <td>12.103403</td>\n",
       "    </tr>\n",
       "    <tr>\n",
       "      <th>carz_firstrust_automotive</th>\n",
       "      <td>24.894752</td>\n",
       "      <td>24.894752</td>\n",
       "      <td>24.894752</td>\n",
       "      <td>24.894752</td>\n",
       "      <td>24.894752</td>\n",
       "    </tr>\n",
       "    <tr>\n",
       "      <th>...</th>\n",
       "      <th>...</th>\n",
       "      <td>...</td>\n",
       "      <td>...</td>\n",
       "      <td>...</td>\n",
       "      <td>...</td>\n",
       "      <td>...</td>\n",
       "    </tr>\n",
       "    <tr>\n",
       "      <th rowspan=\"5\" valign=\"top\">2020-10-02</th>\n",
       "      <th>vnq_vanguard_us_reit</th>\n",
       "      <td>81.930000</td>\n",
       "      <td>81.930000</td>\n",
       "      <td>81.930000</td>\n",
       "      <td>81.930000</td>\n",
       "      <td>81.930000</td>\n",
       "    </tr>\n",
       "    <tr>\n",
       "      <th>wood_ishares_timber</th>\n",
       "      <td>65.930000</td>\n",
       "      <td>65.930000</td>\n",
       "      <td>65.930000</td>\n",
       "      <td>65.930000</td>\n",
       "      <td>65.930000</td>\n",
       "    </tr>\n",
       "    <tr>\n",
       "      <th>wtmf_wisdomtree_mgd_futs</th>\n",
       "      <td>34.750000</td>\n",
       "      <td>34.750000</td>\n",
       "      <td>34.750000</td>\n",
       "      <td>34.750000</td>\n",
       "      <td>34.750000</td>\n",
       "    </tr>\n",
       "    <tr>\n",
       "      <th>xop_spdr_exploration</th>\n",
       "      <td>41.619999</td>\n",
       "      <td>41.619999</td>\n",
       "      <td>41.619999</td>\n",
       "      <td>41.619999</td>\n",
       "      <td>41.619999</td>\n",
       "    </tr>\n",
       "    <tr>\n",
       "      <th>xrlv_pshares_xrate_sen_lowvol</th>\n",
       "      <td>38.255001</td>\n",
       "      <td>38.255001</td>\n",
       "      <td>38.255001</td>\n",
       "      <td>38.255001</td>\n",
       "      <td>38.255001</td>\n",
       "    </tr>\n",
       "  </tbody>\n",
       "</table>\n",
       "<p>267030 rows × 5 columns</p>\n",
       "</div>"
      ],
      "text/plain": [
       "                                              close       high        low  \\\n",
       "Date                                                                        \n",
       "2008-12-19 acwi_ishares_acwi              24.765001  24.765001  24.765001   \n",
       "           amlp_alerian_mlp               16.443199  16.443199  16.443199   \n",
       "           bizd_vaneck_bdc                 3.527480   3.527480   3.527480   \n",
       "           bjk_vaneck_gaming              12.103403  12.103403  12.103403   \n",
       "           carz_firstrust_automotive      24.894752  24.894752  24.894752   \n",
       "...                                             ...        ...        ...   \n",
       "2020-10-02 vnq_vanguard_us_reit           81.930000  81.930000  81.930000   \n",
       "           wood_ishares_timber            65.930000  65.930000  65.930000   \n",
       "           wtmf_wisdomtree_mgd_futs       34.750000  34.750000  34.750000   \n",
       "           xop_spdr_exploration           41.619999  41.619999  41.619999   \n",
       "           xrlv_pshares_xrate_sen_lowvol  38.255001  38.255001  38.255001   \n",
       "\n",
       "                                          underlying    reprice  \n",
       "Date                                                             \n",
       "2008-12-19 acwi_ishares_acwi               24.765001  24.765001  \n",
       "           amlp_alerian_mlp                16.443199  16.443199  \n",
       "           bizd_vaneck_bdc                  3.527480   3.527480  \n",
       "           bjk_vaneck_gaming               12.103403  12.103403  \n",
       "           carz_firstrust_automotive       24.894752  24.894752  \n",
       "...                                              ...        ...  \n",
       "2020-10-02 vnq_vanguard_us_reit            81.930000  81.930000  \n",
       "           wood_ishares_timber             65.930000  65.930000  \n",
       "           wtmf_wisdomtree_mgd_futs        34.750000  34.750000  \n",
       "           xop_spdr_exploration            41.619999  41.619999  \n",
       "           xrlv_pshares_xrate_sen_lowvol   38.255001  38.255001  \n",
       "\n",
       "[267030 rows x 5 columns]"
      ]
     },
     "execution_count": 158,
     "metadata": {},
     "output_type": "execute_result"
    }
   ],
   "source": [
    "pkl = pd.DataFrame()\n",
    "pkl['close'] = db.stack()\n",
    "pkl['high'] = db.stack()\n",
    "pkl['low'] = db.stack()\n",
    "pkl['underlying'] = db.stack()\n",
    "pkl['reprice'] = db.stack(); pkl"
   ]
  },
  {
   "cell_type": "code",
   "execution_count": 159,
   "metadata": {},
   "outputs": [],
   "source": [
    "pkl.to_pickle('global_20201005.pkl')"
   ]
  },
  {
   "cell_type": "code",
   "execution_count": null,
   "metadata": {},
   "outputs": [],
   "source": []
  },
  {
   "cell_type": "markdown",
   "metadata": {},
   "source": [
    "# 여기서부터 시작"
   ]
  },
  {
   "cell_type": "code",
   "execution_count": 4,
   "metadata": {},
   "outputs": [],
   "source": [
    "db = pd.read_pickle('db 20200619.pkl')"
   ]
  },
  {
   "cell_type": "code",
   "execution_count": 6,
   "metadata": {},
   "outputs": [
    {
     "data": {
      "text/plain": [
       "DatetimeIndex(['2009-10-02', '2009-10-09', '2009-10-16', '2009-10-23',\n",
       "               '2009-10-30', '2009-11-06', '2009-11-13', '2009-11-20',\n",
       "               '2009-11-27', '2009-12-04',\n",
       "               ...\n",
       "               '2019-05-03', '2019-05-10', '2019-05-17', '2019-05-24',\n",
       "               '2019-05-31', '2019-06-07', '2019-06-14', '2019-06-21',\n",
       "               '2019-06-28', '2019-07-05'],\n",
       "              dtype='datetime64[ns]', name='Date', length=510, freq='5B')"
      ]
     },
     "execution_count": 6,
     "metadata": {},
     "output_type": "execute_result"
    }
   ],
   "source": [
    "dates = db.index[250*5-1:-250:5]; dates"
   ]
  },
  {
   "cell_type": "code",
   "execution_count": 7,
   "metadata": {},
   "outputs": [
    {
     "data": {
      "application/vnd.jupyter.widget-view+json": {
       "model_id": "7fdba7d41aa34bc692f78c1e9ea8a0cb",
       "version_major": 2,
       "version_minor": 0
      },
      "text/plain": [
       "HBox(children=(IntProgress(value=0, max=4), HTML(value='')))"
      ]
     },
     "metadata": {},
     "output_type": "display_data"
    },
    {
     "name": "stderr",
     "output_type": "stream",
     "text": [
      "INFO:numexpr.utils:NumExpr defaulting to 4 threads.\n"
     ]
    },
    {
     "name": "stdout",
     "output_type": "stream",
     "text": [
      "\n"
     ]
    }
   ],
   "source": [
    "nback = 250*5\n",
    "date = dates[-1]\n",
    "db_ = db.loc[:date].iloc[-nback:]\n",
    "# reducer = FastICA(n_components=3, random_state=0)\n",
    "pricer = pr.Pricer(db_, reducer=None, prob=0.80, howfar=250, progress=True)"
   ]
  },
  {
   "cell_type": "code",
   "execution_count": 25,
   "metadata": {},
   "outputs": [],
   "source": [
    "nfwds = [5,10,15,20,40,60,80,100,120,140,160,180,200,220,240]\n",
    "\n",
    "def evaluate_relperf(pricer):\n",
    "    r_actual = db.loc[pricer.asof:].iloc[[0]+nfwds]\n",
    "    r_actual = (r_actual / r_actual.iloc[0] - 1).iloc[1:]\n",
    "    r_actual.index = nfwds\n",
    "    r_forecast = pd.DataFrame({nfwd:pricer.stats(nfwd=nfwd, up_thres=0.005).rband_fair for nfwd in nfwds}).T\n",
    "    return r_actual.corrwith(r_forecast, axis=1)\n",
    "\n",
    "def evaluate_hit(pricer):\n",
    "    r_actual = db.loc[pricer.asof:].iloc[[0]+nfwds]\n",
    "    r_actual = (r_actual / r_actual.iloc[0] - 1).iloc[1:]\n",
    "    r_actual.index = nfwds\n",
    "    r_forecast = pd.DataFrame({nfwd:pricer.stats(nfwd=nfwd, up_thres=0.005).rband_fair for nfwd in nfwds}).T\n",
    "    return ((r_actual * r_forecast)>0).sum(axis=1) / len(r_actual.columns)"
   ]
  },
  {
   "cell_type": "code",
   "execution_count": 26,
   "metadata": {},
   "outputs": [
    {
     "data": {
      "text/plain": [
       "5      0.586957\n",
       "10     0.565217\n",
       "15     0.456522\n",
       "20     0.369565\n",
       "40     0.760870\n",
       "60     0.782609\n",
       "80     0.630435\n",
       "100    0.586957\n",
       "120    0.543478\n",
       "140    0.565217\n",
       "160    0.695652\n",
       "180    0.717391\n",
       "200    0.739130\n",
       "220    0.782609\n",
       "240    0.717391\n",
       "dtype: float64"
      ]
     },
     "execution_count": 26,
     "metadata": {},
     "output_type": "execute_result"
    }
   ],
   "source": [
    "evaluate_hit(pricer)"
   ]
  },
  {
   "cell_type": "code",
   "execution_count": 9,
   "metadata": {},
   "outputs": [
    {
     "data": {
      "text/plain": [
       "5     -0.343807\n",
       "10     0.254604\n",
       "15    -0.492258\n",
       "20     0.437500\n",
       "40     0.551200\n",
       "60     0.737593\n",
       "80    -0.011577\n",
       "100   -0.194555\n",
       "120   -0.096033\n",
       "140    0.312228\n",
       "160    0.544140\n",
       "180    0.183908\n",
       "200    0.552451\n",
       "220    0.588834\n",
       "240    0.556858\n",
       "dtype: float64"
      ]
     },
     "execution_count": 9,
     "metadata": {},
     "output_type": "execute_result"
    }
   ],
   "source": [
    "evaluate_relperf(pricer)"
   ]
  },
  {
   "cell_type": "code",
   "execution_count": 37,
   "metadata": {
    "scrolled": true
   },
   "outputs": [
    {
     "name": "stdout",
     "output_type": "stream",
     "text": [
      "2010-01-29 00:00:00\n",
      "2010-02-05 00:00:00\n",
      "2009-11-06 00:00:00\n",
      "2009-11-27 00:00:00\n",
      "2010-01-15 00:00:00\n",
      "2009-12-04 00:00:00\n",
      "2010-02-12 00:00:00\n",
      "2010-01-08 00:00:00\n",
      "2010-01-01 00:00:00\n",
      "2009-12-11 00:00:00\n",
      "2009-11-13 00:00:00\n",
      "2009-11-20 00:00:00\n",
      "2010-01-22 00:00:00\n",
      "2009-12-25 00:00:00\n",
      "2009-12-18 00:00:00\n",
      "2009-10-16 00:00:00\n",
      "2009-10-23 00:00:00\n",
      "2009-10-09 00:00:00\n",
      "2009-10-02 00:00:00\n",
      "2009-10-30 00:00:00\n",
      "2010-02-26 00:00:00\n",
      "2010-04-09 00:00:00\n",
      "2010-04-23 00:00:00\n",
      "2010-03-19 00:00:00\n",
      "2010-02-19 00:00:00\n",
      "2010-04-30 00:00:00\n",
      "2010-03-12 00:00:00\n",
      "2010-03-05 00:00:00\n",
      "2010-04-02 00:00:00\n",
      "2010-04-16 00:00:00\n",
      "2010-03-26 00:00:00\n",
      "2010-05-07 00:00:00\n",
      "2010-05-28 00:00:00\n",
      "2010-05-14 00:00:00\n",
      "2010-05-21 00:00:00\n",
      "2010-06-04 00:00:00\n",
      "2010-06-11 00:00:00\n",
      "2010-06-25 00:00:00\n",
      "2010-06-18 00:00:00\n",
      "2010-07-02 00:00:00\n",
      "2010-07-09 00:00:00\n",
      "2010-07-16 00:00:00\n",
      "2010-07-23 00:00:00\n",
      "2010-08-13 00:00:00\n",
      "2010-08-06 00:00:00\n",
      "2010-07-30 00:00:00\n",
      "2010-08-20 00:00:00\n",
      "2010-08-27 00:00:00\n",
      "2010-09-03 00:00:00\n",
      "2010-10-01 00:00:00\n",
      "2010-09-17 00:00:00\n",
      "2010-09-10 00:00:00\n",
      "2010-09-24 00:00:00\n",
      "2010-10-08 00:00:00\n",
      "2010-10-15 00:00:00\n",
      "2010-10-22 00:00:00\n",
      "2010-11-19 00:00:00\n",
      "2010-11-26 00:00:00\n",
      "2010-12-03 00:00:00\n",
      "2010-12-10 00:00:00\n",
      "2010-12-31 00:00:00\n",
      "2010-10-29 00:00:00\n",
      "2010-12-24 00:00:00\n",
      "2010-12-17 00:00:00\n",
      "2011-01-21 00:00:00\n",
      "2011-01-14 00:00:00\n",
      "2010-11-05 00:00:00\n",
      "2011-01-07 00:00:00\n",
      "2010-11-12 00:00:00\n",
      "2011-01-28 00:00:00\n",
      "2011-02-04 00:00:00\n",
      "2011-02-11 00:00:00\n",
      "2011-02-18 00:00:00\n",
      "2011-02-25 00:00:00\n",
      "2011-03-04 00:00:00\n",
      "2011-03-11 00:00:00\n",
      "2011-03-18 00:00:00\n",
      "2011-03-25 00:00:00\n",
      "2011-04-01 00:00:00\n",
      "2011-04-29 00:00:00\n",
      "2011-04-08 00:00:00\n",
      "2011-04-22 00:00:00\n",
      "2011-04-15 00:00:00\n",
      "2011-05-20 00:00:00\n",
      "2011-05-06 00:00:00\n",
      "2011-05-13 00:00:00\n",
      "2011-06-10 00:00:00\n",
      "2011-05-27 00:00:00\n",
      "2011-06-24 00:00:00\n",
      "2011-07-01 00:00:00\n",
      "2011-06-17 00:00:00\n",
      "2011-06-03 00:00:00\n",
      "2011-07-08 00:00:00\n",
      "2011-07-15 00:00:00\n",
      "2011-07-22 00:00:00\n",
      "2011-07-29 00:00:00\n",
      "2011-08-05 00:00:00\n",
      "2011-08-12 00:00:00\n",
      "2011-08-19 00:00:00\n",
      "2011-09-16 00:00:00\n",
      "2011-08-26 00:00:00\n",
      "2011-09-09 00:00:00\n",
      "2011-09-02 00:00:00\n",
      "2011-09-23 00:00:00\n",
      "2011-10-07 00:00:00\n",
      "2011-09-30 00:00:00\n",
      "2011-10-14 00:00:00\n",
      "2011-10-21 00:00:00\n",
      "2011-11-11 00:00:00\n",
      "2011-10-28 00:00:00\n",
      "2011-11-18 00:00:00\n",
      "2011-11-04 00:00:00\n",
      "2011-11-25 00:00:00\n",
      "2011-12-02 00:00:00\n",
      "2011-12-09 00:00:00\n",
      "2011-12-16 00:00:00\n",
      "2011-12-23 00:00:00\n",
      "2011-12-30 00:00:00\n",
      "2012-01-06 00:00:00\n",
      "2012-01-13 00:00:00\n",
      "2012-01-27 00:00:00\n",
      "2012-01-20 00:00:00\n",
      "2012-02-03 00:00:00\n",
      "2012-02-17 00:00:00\n",
      "2012-02-10 00:00:00\n",
      "2012-03-02 00:00:00\n",
      "2012-02-24 00:00:00\n",
      "2012-03-23 00:00:00\n",
      "2012-03-16 00:00:00\n",
      "2012-03-09 00:00:00\n",
      "2012-04-06 00:00:00\n",
      "2012-03-30 00:00:00\n",
      "2012-04-13 00:00:00\n",
      "2012-04-20 00:00:00\n",
      "2012-04-27 00:00:00\n",
      "2012-05-04 00:00:00\n",
      "2012-05-11 00:00:00\n",
      "2012-05-18 00:00:00\n",
      "2012-05-25 00:00:00\n",
      "2012-06-15 00:00:00\n",
      "2012-06-08 00:00:00\n",
      "2012-06-01 00:00:00\n",
      "2012-06-22 00:00:00\n",
      "2012-06-29 00:00:00\n",
      "2012-07-06 00:00:00\n",
      "2012-07-20 00:00:00\n",
      "2012-07-13 00:00:00\n",
      "2012-07-27 00:00:00\n",
      "2012-08-03 00:00:00\n",
      "2012-08-10 00:00:00\n",
      "2012-08-17 00:00:00\n",
      "2012-08-24 00:00:00\n",
      "2012-09-21 00:00:00\n",
      "2012-08-31 00:00:00\n",
      "2012-09-28 00:00:00\n",
      "2012-09-07 00:00:00\n",
      "2012-09-14 00:00:00\n",
      "2012-10-05 00:00:00\n",
      "2012-10-12 00:00:00\n",
      "2012-10-26 00:00:00\n",
      "2012-11-02 00:00:00\n",
      "2012-11-09 00:00:00\n",
      "2012-10-19 00:00:00\n",
      "2012-11-16 00:00:00\n",
      "2012-11-30 00:00:00\n",
      "2012-11-23 00:00:00\n",
      "2012-12-07 00:00:00\n",
      "2012-12-14 00:00:00\n",
      "2012-12-21 00:00:00\n",
      "2012-12-28 00:00:00\n",
      "2013-01-04 00:00:00\n",
      "2013-01-11 00:00:00\n",
      "2013-01-18 00:00:00\n",
      "2013-01-25 00:00:00\n",
      "2013-02-01 00:00:00\n",
      "2013-02-08 00:00:00\n",
      "2013-02-15 00:00:00\n",
      "2013-02-22 00:00:00\n",
      "2013-03-01 00:00:00\n",
      "2013-03-22 00:00:00\n",
      "2013-03-08 00:00:00\n",
      "2013-03-29 00:00:00\n",
      "2013-03-15 00:00:00\n",
      "2013-04-05 00:00:00\n",
      "2013-04-12 00:00:00\n",
      "2013-04-19 00:00:00\n",
      "2013-04-26 00:00:00\n",
      "2013-05-03 00:00:00\n",
      "2013-05-10 00:00:00\n",
      "2013-05-17 00:00:00\n",
      "2013-05-24 00:00:00\n",
      "2013-05-31 00:00:00\n",
      "2013-06-07 00:00:00\n",
      "2013-06-14 00:00:00\n",
      "2013-06-21 00:00:00\n",
      "2013-06-28 00:00:00\n",
      "2013-07-05 00:00:00\n",
      "2013-07-12 00:00:00\n",
      "2013-07-19 00:00:00\n",
      "2013-07-26 00:00:00\n",
      "2013-08-09 00:00:00\n",
      "2013-08-02 00:00:00\n",
      "2013-08-16 00:00:00\n",
      "2013-08-23 00:00:00\n",
      "2013-08-30 00:00:00\n",
      "2013-09-06 00:00:00\n",
      "2013-09-13 00:00:00\n",
      "2013-09-20 00:00:00\n",
      "2013-09-27 00:00:00\n",
      "2013-10-04 00:00:00\n",
      "2013-10-18 00:00:00\n",
      "2013-10-11 00:00:00\n",
      "2013-10-25 00:00:00\n",
      "2013-11-01 00:00:00\n",
      "2013-11-08 00:00:00\n",
      "2013-11-15 00:00:00\n",
      "2013-11-22 00:00:00\n",
      "2013-11-29 00:00:00\n",
      "2013-12-06 00:00:00\n",
      "2013-12-20 00:00:00\n",
      "2013-12-27 00:00:00\n",
      "2013-12-13 00:00:00\n",
      "2014-01-03 00:00:00\n",
      "2014-01-10 00:00:00\n",
      "2014-01-24 00:00:00\n",
      "2014-01-17 00:00:00\n",
      "2014-01-31 00:00:00\n",
      "2014-02-07 00:00:00\n",
      "2014-02-14 00:00:00\n",
      "2014-02-21 00:00:00\n",
      "2014-02-28 00:00:00\n",
      "2014-03-07 00:00:00\n",
      "2014-03-14 00:00:00\n",
      "2014-03-21 00:00:00\n",
      "2014-03-28 00:00:00\n",
      "2014-04-04 00:00:00\n",
      "2014-04-18 00:00:00\n",
      "2014-04-11 00:00:00\n",
      "2014-04-25 00:00:00\n",
      "2014-05-02 00:00:00\n",
      "2014-05-16 00:00:00\n",
      "2014-05-09 00:00:00\n",
      "2014-05-23 00:00:00\n",
      "2014-05-30 00:00:00\n",
      "2014-06-06 00:00:00\n",
      "2014-06-13 00:00:00\n",
      "2014-06-20 00:00:00\n",
      "2014-07-11 00:00:00\n",
      "2014-06-27 00:00:00\n",
      "2014-07-18 00:00:00\n",
      "2014-07-04 00:00:00\n",
      "2014-07-25 00:00:00\n",
      "2014-08-01 00:00:00\n",
      "2014-08-08 00:00:00\n",
      "2014-08-15 00:00:00\n",
      "2014-08-22 00:00:00\n",
      "2014-08-29 00:00:00\n",
      "2014-09-05 00:00:00\n",
      "2014-09-12 00:00:00\n",
      "2014-09-19 00:00:00\n",
      "2014-09-26 00:00:00\n",
      "2014-10-03 00:00:00\n",
      "2014-10-10 00:00:00\n",
      "2014-11-07 00:00:00\n",
      "2014-11-14 00:00:00\n",
      "2014-11-21 00:00:00\n",
      "2014-11-28 00:00:00\n",
      "2014-10-17 00:00:00\n",
      "2014-10-24 00:00:00\n",
      "2014-10-31 00:00:00\n",
      "2014-12-05 00:00:00\n",
      "2014-12-12 00:00:00\n",
      "2014-12-19 00:00:00\n",
      "2014-12-26 00:00:00\n",
      "2015-01-02 00:00:00\n",
      "2015-01-16 00:00:00\n",
      "2015-01-09 00:00:00\n",
      "2015-01-30 00:00:00\n",
      "2015-01-23 00:00:00\n",
      "2015-02-06 00:00:00\n",
      "2015-02-13 00:00:00\n",
      "2015-02-20 00:00:00\n",
      "2015-02-27 00:00:00\n",
      "2015-03-06 00:00:00\n",
      "2015-03-13 00:00:00\n",
      "2015-03-20 00:00:00\n",
      "2015-03-27 00:00:00\n",
      "2015-04-10 00:00:00\n",
      "2015-04-03 00:00:00\n",
      "2015-04-17 00:00:00\n",
      "2015-04-24 00:00:00\n",
      "2015-05-01 00:00:00\n",
      "2015-05-08 00:00:00\n",
      "2015-05-15 00:00:00\n",
      "2015-05-22 00:00:00\n",
      "2015-05-29 00:00:00\n",
      "2015-06-05 00:00:00\n",
      "2015-06-12 00:00:00\n",
      "2015-06-19 00:00:00\n",
      "2015-06-26 00:00:00\n",
      "2015-07-03 00:00:00\n",
      "2015-07-10 00:00:00\n",
      "2015-07-17 00:00:00\n",
      "2015-07-24 00:00:00\n",
      "2015-07-31 00:00:00\n",
      "2015-08-07 00:00:00\n",
      "2015-08-14 00:00:00\n",
      "2015-08-28 00:00:00\n",
      "2015-08-21 00:00:00\n",
      "2015-09-04 00:00:00\n",
      "2015-09-11 00:00:00\n",
      "2015-09-18 00:00:00\n",
      "2015-09-25 00:00:00\n",
      "2015-11-13 00:00:00\n",
      "2015-11-20 00:00:00\n",
      "2015-10-02 00:00:00\n",
      "2015-10-09 00:00:00\n",
      "2015-10-16 00:00:00\n",
      "2015-10-30 00:00:00\n",
      "2015-10-23 00:00:00\n",
      "2015-11-06 00:00:00\n",
      "2015-11-27 00:00:00\n",
      "2015-12-04 00:00:00\n",
      "2015-12-18 00:00:00\n",
      "2015-12-11 00:00:00\n",
      "2015-12-25 00:00:00\n",
      "2016-01-01 00:00:00\n",
      "2016-01-08 00:00:00\n",
      "2016-01-15 00:00:00\n",
      "2016-01-22 00:00:00\n",
      "2016-01-29 00:00:00\n",
      "2016-02-12 00:00:00\n",
      "2016-02-05 00:00:00\n",
      "2016-02-19 00:00:00\n",
      "2016-02-26 00:00:00\n",
      "2016-03-04 00:00:00\n",
      "2016-03-18 00:00:00\n",
      "2016-03-11 00:00:00\n",
      "2016-03-25 00:00:00\n",
      "2016-04-01 00:00:00\n",
      "2016-04-08 00:00:00\n",
      "2016-04-15 00:00:00\n",
      "2016-04-22 00:00:00\n",
      "2016-04-29 00:00:00\n",
      "2016-05-06 00:00:00\n",
      "2016-05-13 00:00:00\n",
      "2016-05-20 00:00:00\n",
      "2016-05-27 00:00:00\n",
      "2016-06-03 00:00:00\n",
      "2016-06-10 00:00:00\n",
      "2016-06-17 00:00:00\n",
      "2016-06-24 00:00:00\n",
      "2016-07-01 00:00:00\n",
      "2016-07-08 00:00:00\n",
      "2016-07-15 00:00:00\n",
      "2016-07-22 00:00:00\n",
      "2016-07-29 00:00:00\n",
      "2016-08-05 00:00:00\n",
      "2016-08-12 00:00:00\n",
      "2016-08-19 00:00:00\n",
      "2016-08-26 00:00:00\n",
      "2016-09-02 00:00:00\n",
      "2016-09-09 00:00:00\n",
      "2016-09-16 00:00:00\n",
      "2016-09-23 00:00:00\n",
      "2016-09-30 00:00:00\n",
      "2016-10-07 00:00:00\n",
      "2016-10-14 00:00:00\n",
      "2016-10-21 00:00:00\n",
      "2016-10-28 00:00:00\n",
      "2016-11-04 00:00:00\n",
      "2016-11-11 00:00:00\n",
      "2016-11-18 00:00:00\n",
      "2016-11-25 00:00:00\n",
      "2016-12-02 00:00:00\n",
      "2016-12-09 00:00:00\n",
      "2016-12-16 00:00:00\n",
      "2016-12-23 00:00:00\n",
      "2016-12-30 00:00:00\n",
      "2017-01-06 00:00:00\n",
      "2017-01-20 00:00:00\n",
      "2017-01-27 00:00:00\n",
      "2017-01-13 00:00:00\n",
      "2017-03-03 00:00:00\n",
      "2017-03-10 00:00:00\n",
      "2017-02-03 00:00:00\n",
      "2017-03-17 00:00:00\n",
      "2017-02-10 00:00:00\n",
      "2017-02-17 00:00:00\n",
      "2017-03-24 00:00:00\n",
      "2017-02-24 00:00:00\n",
      "2017-03-31 00:00:00\n",
      "2017-04-07 00:00:00\n",
      "2017-04-14 00:00:00\n",
      "2017-04-21 00:00:00\n",
      "2017-04-28 00:00:00\n",
      "2017-05-05 00:00:00\n",
      "2017-05-12 00:00:00\n",
      "2017-05-19 00:00:00\n",
      "2017-05-26 00:00:00\n",
      "2017-06-02 00:00:00\n",
      "2017-06-09 00:00:00\n",
      "2017-06-16 00:00:00\n",
      "2017-06-23 00:00:00\n",
      "2017-06-30 00:00:00\n",
      "2017-07-07 00:00:00\n",
      "2017-07-21 00:00:00\n",
      "2017-07-14 00:00:00\n",
      "2017-07-28 00:00:00\n",
      "2017-08-04 00:00:00\n",
      "2017-08-11 00:00:00\n",
      "2017-08-18 00:00:00\n",
      "2017-08-25 00:00:00\n",
      "2017-09-01 00:00:00\n",
      "2017-10-20 00:00:00\n",
      "2017-10-27 00:00:00\n",
      "2017-09-08 00:00:00\n",
      "2017-11-03 00:00:00\n",
      "2017-11-10 00:00:00\n",
      "2017-11-17 00:00:00\n",
      "2017-11-24 00:00:00\n",
      "2017-12-01 00:00:00\n",
      "2017-09-15 00:00:00\n",
      "2017-09-22 00:00:00\n",
      "2017-09-29 00:00:00\n",
      "2017-10-06 00:00:00\n",
      "2017-10-13 00:00:00\n",
      "2017-12-08 00:00:00\n",
      "2017-12-15 00:00:00\n",
      "2017-12-22 00:00:00\n",
      "2017-12-29 00:00:00\n",
      "2018-01-05 00:00:00\n",
      "2018-01-12 00:00:00\n",
      "2018-01-19 00:00:00\n",
      "2018-01-26 00:00:00\n",
      "2018-02-09 00:00:00\n",
      "2018-02-02 00:00:00\n",
      "2018-02-16 00:00:00\n",
      "2018-02-23 00:00:00\n",
      "2018-03-02 00:00:00\n",
      "2018-03-09 00:00:00\n",
      "2018-03-16 00:00:00\n",
      "2018-03-30 00:00:00\n",
      "2018-03-23 00:00:00\n",
      "2018-04-13 00:00:00\n",
      "2018-04-06 00:00:00\n",
      "2018-04-20 00:00:00\n",
      "2018-04-27 00:00:00\n",
      "2018-05-04 00:00:00\n",
      "2018-05-11 00:00:00\n",
      "2018-05-18 00:00:00\n",
      "2018-05-25 00:00:00\n",
      "2018-06-01 00:00:00\n",
      "2018-06-08 00:00:00\n",
      "2018-06-15 00:00:00\n",
      "2018-06-22 00:00:00\n",
      "2018-06-29 00:00:00\n",
      "2018-07-06 00:00:00\n",
      "2018-07-13 00:00:00\n",
      "2018-07-20 00:00:00\n",
      "2018-07-27 00:00:00\n",
      "2018-08-03 00:00:00\n",
      "2018-08-10 00:00:00\n",
      "2018-08-17 00:00:00\n",
      "2018-08-24 00:00:00\n",
      "2018-08-31 00:00:00\n",
      "2018-09-07 00:00:00\n",
      "2018-09-14 00:00:00\n",
      "2018-09-21 00:00:00\n",
      "2018-09-28 00:00:00\n",
      "2018-10-05 00:00:00\n",
      "2018-10-12 00:00:00\n",
      "2018-10-19 00:00:00\n",
      "2018-10-26 00:00:00\n",
      "2018-11-02 00:00:00\n",
      "2018-11-09 00:00:00\n",
      "2018-11-16 00:00:00\n",
      "2018-11-30 00:00:00\n",
      "2018-11-23 00:00:00\n",
      "2018-12-07 00:00:00\n",
      "2018-12-14 00:00:00\n",
      "2018-12-28 00:00:00\n",
      "2018-12-21 00:00:00\n",
      "2019-01-04 00:00:00\n",
      "2019-01-11 00:00:00\n",
      "2019-01-18 00:00:00\n",
      "2019-01-25 00:00:00\n",
      "2019-02-01 00:00:00\n",
      "2019-02-08 00:00:00\n",
      "2019-02-15 00:00:00\n",
      "2019-02-22 00:00:00\n",
      "2019-03-01 00:00:00\n",
      "2019-03-08 00:00:00\n",
      "2019-03-15 00:00:00\n",
      "2019-03-22 00:00:00\n",
      "2019-03-29 00:00:00\n",
      "2019-04-05 00:00:00\n",
      "2019-04-12 00:00:00\n",
      "2019-04-19 00:00:00\n",
      "2019-05-10 00:00:00\n",
      "2019-04-26 00:00:00\n",
      "2019-05-03 00:00:00\n",
      "2019-07-05 00:00:00\n",
      "2019-05-24 00:00:00\n",
      "2019-05-17 00:00:00\n",
      "2019-05-31 00:00:00\n",
      "2019-06-07 00:00:00\n",
      "2019-06-14 00:00:00\n",
      "2019-06-21 00:00:00\n",
      "2019-06-28 00:00:00\n"
     ]
    }
   ],
   "source": [
    "import asyncio\n",
    "nback = 250*2\n",
    "evaluator = evaluate_hit\n",
    "\n",
    "async def evalute(date):\n",
    "    db_ = db.loc[:date].iloc[-nback:]\n",
    "    pricer = await loop.run_in_executor(None, pr.Pricer, db_)\n",
    "    print(date)\n",
    "    return date, await loop.run_in_executor(None, evaluator, pricer)\n",
    "\n",
    "async def main():\n",
    "    fts = [asyncio.ensure_future(evalute(date)) for date in dates[:]]\n",
    "    return await asyncio.gather(*fts)\n",
    "\n",
    "\n",
    "result = None\n",
    "asyncio.set_event_loop(asyncio.new_event_loop())\n",
    "loop = asyncio.get_event_loop()\n",
    "\n",
    "try:\n",
    "    # 다음 코드를 주피터에서 돌리려면, tornado를 downgrade 해야함\n",
    "    # pip install tornado==4.5.3\n",
    "    result = loop.run_until_complete(main())\n",
    "    result = pd.DataFrame(dict(result)).T\n",
    "\n",
    "except Exception as ex:\n",
    "    print(ex)\n",
    "\n",
    "finally:\n",
    "    loop.close()"
   ]
  },
  {
   "cell_type": "code",
   "execution_count": 38,
   "metadata": {},
   "outputs": [],
   "source": [
    "result.to_pickle('hit2y.pkl')"
   ]
  },
  {
   "cell_type": "code",
   "execution_count": null,
   "metadata": {},
   "outputs": [],
   "source": []
  },
  {
   "cell_type": "code",
   "execution_count": null,
   "metadata": {},
   "outputs": [],
   "source": []
  },
  {
   "cell_type": "code",
   "execution_count": 29,
   "metadata": {},
   "outputs": [],
   "source": [
    "result = pd.read_pickle('hit4y.pkl')"
   ]
  },
  {
   "cell_type": "code",
   "execution_count": 30,
   "metadata": {},
   "outputs": [
    {
     "data": {
      "text/plain": [
       "<matplotlib.axes._subplots.AxesSubplot at 0x2797cf36390>"
      ]
     },
     "execution_count": 30,
     "metadata": {},
     "output_type": "execute_result"
    },
    {
     "data": {
      "image/png": "[encoded data removed]",
      "text/plain": [
       "<Figure size 432x288 with 1 Axes>"
      ]
     },
     "metadata": {
      "needs_background": "light"
     },
     "output_type": "display_data"
    }
   ],
   "source": [
    "# 5y\n",
    "result[[5,10,15,20]].mean(axis=1).iloc[-50:].plot()"
   ]
  },
  {
   "cell_type": "code",
   "execution_count": 12,
   "metadata": {},
   "outputs": [
    {
     "data": {
      "text/plain": [
       "<matplotlib.axes._subplots.AxesSubplot at 0x237b8e69860>"
      ]
     },
     "execution_count": 12,
     "metadata": {},
     "output_type": "execute_result"
    },
    {
     "data": {
      "image/png": "[encoded data removed]",
      "text/plain": [
       "<Figure size 432x288 with 1 Axes>"
      ]
     },
     "metadata": {
      "needs_background": "light"
     },
     "output_type": "display_data"
    }
   ],
   "source": [
    "# 4y\n",
    "result[[5,10,15,20]].mean(axis=1).iloc[-50:].plot()"
   ]
  },
  {
   "cell_type": "code",
   "execution_count": 16,
   "metadata": {},
   "outputs": [
    {
     "data": {
      "text/plain": [
       "<matplotlib.axes._subplots.AxesSubplot at 0x17e21c05828>"
      ]
     },
     "execution_count": 16,
     "metadata": {},
     "output_type": "execute_result"
    },
    {
     "data": {
      "image/png": "[encoded data removed]",
      "text/plain": [
       "<Figure size 432x288 with 1 Axes>"
      ]
     },
     "metadata": {
      "needs_background": "light"
     },
     "output_type": "display_data"
    }
   ],
   "source": [
    "# 3y\n",
    "result[[5,10,15,20]].mean(axis=1).iloc[-50:].plot()"
   ]
  },
  {
   "cell_type": "code",
   "execution_count": 28,
   "metadata": {},
   "outputs": [
    {
     "data": {
      "text/plain": [
       "<matplotlib.axes._subplots.AxesSubplot at 0x17e159d5860>"
      ]
     },
     "execution_count": 28,
     "metadata": {},
     "output_type": "execute_result"
    },
    {
     "data": {
      "image/png": "[encoded data removed]",
      "text/plain": [
       "<Figure size 432x288 with 1 Axes>"
      ]
     },
     "metadata": {
      "needs_background": "light"
     },
     "output_type": "display_data"
    }
   ],
   "source": [
    "# 2y\n",
    "result[[5,10,15,20]].mean(axis=1).iloc[-50:].plot()"
   ]
  },
  {
   "cell_type": "code",
   "execution_count": 19,
   "metadata": {},
   "outputs": [
    {
     "data": {
      "text/plain": [
       "<matplotlib.axes._subplots.AxesSubplot at 0x17e05c85eb8>"
      ]
     },
     "execution_count": 19,
     "metadata": {},
     "output_type": "execute_result"
    },
    {
     "data": {
      "image/png": "[encoded data removed]",
      "text/plain": [
       "<Figure size 432x288 with 1 Axes>"
      ]
     },
     "metadata": {
      "needs_background": "light"
     },
     "output_type": "display_data"
    }
   ],
   "source": [
    "# 1y\n",
    "result[[5,10,15,20]].mean(axis=1).iloc[-50:].plot()"
   ]
  },
  {
   "cell_type": "code",
   "execution_count": 22,
   "metadata": {},
   "outputs": [
    {
     "data": {
      "text/plain": [
       "<matplotlib.axes._subplots.AxesSubplot at 0x17e055d12e8>"
      ]
     },
     "execution_count": 22,
     "metadata": {},
     "output_type": "execute_result"
    },
    {
     "data": {
      "image/png": "[encoded data removed]",
      "text/plain": [
       "<Figure size 432x288 with 1 Axes>"
      ]
     },
     "metadata": {
      "needs_background": "light"
     },
     "output_type": "display_data"
    }
   ],
   "source": [
    "# 6m\n",
    "result[[5,10,15,20]].mean(axis=1).iloc[-50:].plot()"
   ]
  },
  {
   "cell_type": "code",
   "execution_count": 25,
   "metadata": {},
   "outputs": [
    {
     "data": {
      "text/plain": [
       "<matplotlib.axes._subplots.AxesSubplot at 0x17e264bbb00>"
      ]
     },
     "execution_count": 25,
     "metadata": {},
     "output_type": "execute_result"
    },
    {
     "data": {
      "image/png": "[encoded data removed]",
      "text/plain": [
       "<Figure size 432x288 with 1 Axes>"
      ]
     },
     "metadata": {
      "needs_background": "light"
     },
     "output_type": "display_data"
    }
   ],
   "source": [
    "# 3m\n",
    "result[[5,10,15,20]].mean(axis=1).iloc[-50:].plot()"
   ]
  },
  {
   "cell_type": "code",
   "execution_count": null,
   "metadata": {},
   "outputs": [],
   "source": []
  },
  {
   "cell_type": "code",
   "execution_count": null,
   "metadata": {},
   "outputs": [],
   "source": []
  },
  {
   "cell_type": "code",
   "execution_count": null,
   "metadata": {},
   "outputs": [],
   "source": []
  },
  {
   "cell_type": "code",
   "execution_count": null,
   "metadata": {},
   "outputs": [],
   "source": []
  },
  {
   "cell_type": "code",
   "execution_count": null,
   "metadata": {},
   "outputs": [],
   "source": []
  },
  {
   "cell_type": "code",
   "execution_count": null,
   "metadata": {},
   "outputs": [],
   "source": []
  },
  {
   "cell_type": "code",
   "execution_count": null,
   "metadata": {},
   "outputs": [],
   "source": []
  },
  {
   "cell_type": "code",
   "execution_count": null,
   "metadata": {},
   "outputs": [],
   "source": []
  },
  {
   "cell_type": "code",
   "execution_count": null,
   "metadata": {},
   "outputs": [],
   "source": []
  },
  {
   "cell_type": "code",
   "execution_count": 118,
   "metadata": {},
   "outputs": [],
   "source": [
    "def cal_hit():\n",
    "    hits = []\n",
    "    for i, nfwd in list(enumerate(nfwds))[1:]:\n",
    "        forecast = pricer.stats(nfwd=nfwd, up_thres=0.01)\n",
    "        actual = df.iloc[i]\n",
    "        #hit = dir_actual * dir_forecast > 0\n",
    "        #hits.append((nfwd, hit.sum() / len(hit)))\n",
    "        hits.append((nfwd, actual.corr(forecast.rband_fair)))\n",
    "        \n",
    "    return hits"
   ]
  },
  {
   "cell_type": "code",
   "execution_count": 119,
   "metadata": {
    "scrolled": true
   },
   "outputs": [
    {
     "data": {
      "text/plain": [
       "[(5, 0.4587860636812362),\n",
       " (10, -0.5323863816203396),\n",
       " (15, 0.5538399041533946),\n",
       " (20, -0.5989687090310699),\n",
       " (40, -0.5406484852584688),\n",
       " (60, -0.3374884127769239),\n",
       " (80, 0.22819751012790343),\n",
       " (100, 0.30337596438527525),\n",
       " (120, 0.6445786632159642),\n",
       " (140, 0.627167799915445),\n",
       " (160, 0.4810250197861885),\n",
       " (180, -0.6509773273411951),\n",
       " (200, -0.48066130015966035),\n",
       " (220, -0.31227124851051014),\n",
       " (240, -0.12807304537028918)]"
      ]
     },
     "execution_count": 119,
     "metadata": {},
     "output_type": "execute_result"
    }
   ],
   "source": [
    "cal_hit()"
   ]
  },
  {
   "cell_type": "code",
   "execution_count": 98,
   "metadata": {},
   "outputs": [
    {
     "data": {
      "text/plain": [
       "<matplotlib.axes._subplots.AxesSubplot at 0x172f536feb8>"
      ]
     },
     "execution_count": 98,
     "metadata": {},
     "output_type": "execute_result"
    },
    {
     "data": {
      "image/png": "[encoded data removed]",
      "text/plain": [
       "<Figure size 432x288 with 1 Axes>"
      ]
     },
     "metadata": {
      "needs_background": "light"
     },
     "output_type": "display_data"
    }
   ],
   "source": [
    "pd.Series(list(zip(*cal_hit()))[1]).plot()"
   ]
  },
  {
   "cell_type": "code",
   "execution_count": 102,
   "metadata": {},
   "outputs": [
    {
     "data": {
      "text/plain": [
       "<matplotlib.axes._subplots.AxesSubplot at 0x172f175fe48>"
      ]
     },
     "execution_count": 102,
     "metadata": {},
     "output_type": "execute_result"
    },
    {
     "data": {
      "image/png": "[encoded data removed]",
      "text/plain": [
       "<Figure size 432x288 with 1 Axes>"
      ]
     },
     "metadata": {
      "needs_background": "light"
     },
     "output_type": "display_data"
    }
   ],
   "source": [
    "pd.DataFrame(cal_hit()).set_index(0).plot()"
   ]
  },
  {
   "cell_type": "code",
   "execution_count": null,
   "metadata": {},
   "outputs": [],
   "source": []
  },
  {
   "cell_type": "code",
   "execution_count": null,
   "metadata": {},
   "outputs": [],
   "source": []
  }
 ],
 "metadata": {
  "kernelspec": {
   "display_name": "Python 3",
   "language": "python",
   "name": "python3"
  },
  "language_info": {
   "codemirror_mode": {
    "name": "ipython",
    "version": 3
   },
   "file_extension": ".py",
   "mimetype": "text/x-python",
   "name": "python",
   "nbconvert_exporter": "python",
   "pygments_lexer": "ipython3",
   "version": "3.7.3"
  }
 },
 "nbformat": 4,
 "nbformat_minor": 2
}
