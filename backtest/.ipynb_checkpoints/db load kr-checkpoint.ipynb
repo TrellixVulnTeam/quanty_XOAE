{
 "cells": [
  {
   "cell_type": "code",
   "execution_count": 1,
   "metadata": {},
   "outputs": [],
   "source": [
    "%matplotlib inline\n",
    "import yfinance as yf\n",
    "import pandas as pd\n",
    "from IPython.core.debugger import set_trace"
   ]
  },
  {
   "cell_type": "code",
   "execution_count": 2,
   "metadata": {},
   "outputs": [],
   "source": [
    "assets = {\n",
    "    '278420.KS' : 'arirang_esg', \n",
    "    '279540.KS' : 'kodex_lowvol', #이건 사실 코덱스다 \n",
    "    '244660.KS' : 'kodex_qual_plus', #이건 코덱스임\n",
    "    '244670.KS' : 'kodex_value_plus', #이건 코덱스\n",
    "    '279530.KS' : 'kodex_dvd_high', \n",
    "    '102110.KS' : 'tiger200', \n",
    "    '170350.KS' : 'tiger_beta_plus', \n",
    "    '217790.KS' : 'tiger_contrarian', \n",
    "    '211560.KS' : 'tiger_dvd_growth', \n",
    "    '123320.KS' : 'tiger_lev', \n",
    "    '147970.KS' : 'tiger_mtum', \n",
    "    '148070.KS' : 'kosef_ktb10y',\n",
    "    '167860.KS' : 'kosef_ktb10y_lev'\n",
    "}"
   ]
  },
  {
   "cell_type": "code",
   "execution_count": 3,
   "metadata": {},
   "outputs": [
    {
     "name": "stdout",
     "output_type": "stream",
     "text": [
      "[*********************100%***********************]  13 of 13 completed\n"
     ]
    }
   ],
   "source": [
    "symbols = ' '.join(assets.keys())\n",
    "start = '2008-12-20'\n",
    "end = '2021-08-31'\n",
    "db = yf.download(symbols, start=start, end=end, threads=True)['Adj Close']\n",
    "db = db.rename(columns=assets).fillna(method='ffill')"
   ]
  },
  {
   "cell_type": "code",
   "execution_count": 5,
   "metadata": {},
   "outputs": [],
   "source": [
    "def rebuild(symbol, pkl='prices_kr.pkl'):\n",
    "    market = db[symbol]\n",
    "    \n",
    "    if symbol in pd.read_pickle(pkl).reprice.unstack().columns:\n",
    "        support = pd.read_pickle(pkl).reprice.unstack()[symbol].loc[market.index[0]:]\n",
    "        df_r = pd.DataFrame({'support':support, 'market':market}).fillna(method='ffill').pct_change()\n",
    "        df_p = (df_r.market.combine_first(df_r.support).fillna(0) + 1).cumprod()\n",
    "        return df_p / df_p[-1] * market[-1]\n",
    "    else:\n",
    "        return market"
   ]
  },
  {
   "cell_type": "code",
   "execution_count": 6,
   "metadata": {},
   "outputs": [
    {
     "data": {
      "text/plain": [
       "<AxesSubplot:xlabel='Date'>"
      ]
     },
     "execution_count": 6,
     "metadata": {},
     "output_type": "execute_result"
    },
    {
     "data": {
      "image/png": "[encoded data removed]",
      "text/plain": [
       "<Figure size 432x288 with 1 Axes>"
      ]
     },
     "metadata": {
      "needs_background": "light"
     },
     "output_type": "display_data"
    }
   ],
   "source": [
    "sym = 'kosef_ktb10y_lev'\n",
    "rebuild(sym, pkl='prices_kr.pkl').plot()\n",
    "db[sym].plot()"
   ]
  },
  {
   "cell_type": "code",
   "execution_count": 7,
   "metadata": {
    "scrolled": true
   },
   "outputs": [],
   "source": [
    "for name in assets.values():\n",
    "    db[name] = rebuild(name, pkl='prices_kr.pkl')"
   ]
  },
  {
   "cell_type": "code",
   "execution_count": 8,
   "metadata": {},
   "outputs": [
    {
     "data": {
      "text/html": [
       "<div>\n",
       "<style scoped>\n",
       "    .dataframe tbody tr th:only-of-type {\n",
       "        vertical-align: middle;\n",
       "    }\n",
       "\n",
       "    .dataframe tbody tr th {\n",
       "        vertical-align: top;\n",
       "    }\n",
       "\n",
       "    .dataframe thead th {\n",
       "        text-align: right;\n",
       "    }\n",
       "</style>\n",
       "<table border=\"1\" class=\"dataframe\">\n",
       "  <thead>\n",
       "    <tr style=\"text-align: right;\">\n",
       "      <th></th>\n",
       "      <th></th>\n",
       "      <th>close</th>\n",
       "      <th>high</th>\n",
       "      <th>low</th>\n",
       "      <th>underlying</th>\n",
       "      <th>reprice</th>\n",
       "    </tr>\n",
       "    <tr>\n",
       "      <th>Date</th>\n",
       "      <th></th>\n",
       "      <th></th>\n",
       "      <th></th>\n",
       "      <th></th>\n",
       "      <th></th>\n",
       "      <th></th>\n",
       "    </tr>\n",
       "  </thead>\n",
       "  <tbody>\n",
       "    <tr>\n",
       "      <th rowspan=\"5\" valign=\"top\">2008-12-22</th>\n",
       "      <th>tiger200</th>\n",
       "      <td>15200.000000</td>\n",
       "      <td>15200.000000</td>\n",
       "      <td>15200.000000</td>\n",
       "      <td>15200.000000</td>\n",
       "      <td>15200.000000</td>\n",
       "    </tr>\n",
       "    <tr>\n",
       "      <th>tiger_lev</th>\n",
       "      <td>4917.293781</td>\n",
       "      <td>4917.293781</td>\n",
       "      <td>4917.293781</td>\n",
       "      <td>4917.293781</td>\n",
       "      <td>4917.293781</td>\n",
       "    </tr>\n",
       "    <tr>\n",
       "      <th>tiger_mtum</th>\n",
       "      <td>8589.253578</td>\n",
       "      <td>8589.253578</td>\n",
       "      <td>8589.253578</td>\n",
       "      <td>8589.253578</td>\n",
       "      <td>8589.253578</td>\n",
       "    </tr>\n",
       "    <tr>\n",
       "      <th>kosef_ktb10y</th>\n",
       "      <td>83555.730704</td>\n",
       "      <td>83555.730704</td>\n",
       "      <td>83555.730704</td>\n",
       "      <td>83555.730704</td>\n",
       "      <td>83555.730704</td>\n",
       "    </tr>\n",
       "    <tr>\n",
       "      <th>kosef_ktb10y_lev</th>\n",
       "      <td>62692.636864</td>\n",
       "      <td>62692.636864</td>\n",
       "      <td>62692.636864</td>\n",
       "      <td>62692.636864</td>\n",
       "      <td>62692.636864</td>\n",
       "    </tr>\n",
       "    <tr>\n",
       "      <th>...</th>\n",
       "      <th>...</th>\n",
       "      <td>...</td>\n",
       "      <td>...</td>\n",
       "      <td>...</td>\n",
       "      <td>...</td>\n",
       "      <td>...</td>\n",
       "    </tr>\n",
       "    <tr>\n",
       "      <th rowspan=\"5\" valign=\"top\">2021-08-26</th>\n",
       "      <th>kodex_qual_plus</th>\n",
       "      <td>10905.000000</td>\n",
       "      <td>10905.000000</td>\n",
       "      <td>10905.000000</td>\n",
       "      <td>10905.000000</td>\n",
       "      <td>10905.000000</td>\n",
       "    </tr>\n",
       "    <tr>\n",
       "      <th>kodex_value_plus</th>\n",
       "      <td>10330.000000</td>\n",
       "      <td>10330.000000</td>\n",
       "      <td>10330.000000</td>\n",
       "      <td>10330.000000</td>\n",
       "      <td>10330.000000</td>\n",
       "    </tr>\n",
       "    <tr>\n",
       "      <th>arirang_esg</th>\n",
       "      <td>9675.000000</td>\n",
       "      <td>9675.000000</td>\n",
       "      <td>9675.000000</td>\n",
       "      <td>9675.000000</td>\n",
       "      <td>9675.000000</td>\n",
       "    </tr>\n",
       "    <tr>\n",
       "      <th>kodex_dvd_high</th>\n",
       "      <td>9815.000000</td>\n",
       "      <td>9815.000000</td>\n",
       "      <td>9815.000000</td>\n",
       "      <td>9815.000000</td>\n",
       "      <td>9815.000000</td>\n",
       "    </tr>\n",
       "    <tr>\n",
       "      <th>kodex_lowvol</th>\n",
       "      <td>12265.000000</td>\n",
       "      <td>12265.000000</td>\n",
       "      <td>12265.000000</td>\n",
       "      <td>12265.000000</td>\n",
       "      <td>12265.000000</td>\n",
       "    </tr>\n",
       "  </tbody>\n",
       "</table>\n",
       "<p>40625 rows × 5 columns</p>\n",
       "</div>"
      ],
      "text/plain": [
       "                                    close          high           low  \\\n",
       "Date                                                                    \n",
       "2008-12-22 tiger200          15200.000000  15200.000000  15200.000000   \n",
       "           tiger_lev          4917.293781   4917.293781   4917.293781   \n",
       "           tiger_mtum         8589.253578   8589.253578   8589.253578   \n",
       "           kosef_ktb10y      83555.730704  83555.730704  83555.730704   \n",
       "           kosef_ktb10y_lev  62692.636864  62692.636864  62692.636864   \n",
       "...                                   ...           ...           ...   \n",
       "2021-08-26 kodex_qual_plus   10905.000000  10905.000000  10905.000000   \n",
       "           kodex_value_plus  10330.000000  10330.000000  10330.000000   \n",
       "           arirang_esg        9675.000000   9675.000000   9675.000000   \n",
       "           kodex_dvd_high     9815.000000   9815.000000   9815.000000   \n",
       "           kodex_lowvol      12265.000000  12265.000000  12265.000000   \n",
       "\n",
       "                               underlying       reprice  \n",
       "Date                                                     \n",
       "2008-12-22 tiger200          15200.000000  15200.000000  \n",
       "           tiger_lev          4917.293781   4917.293781  \n",
       "           tiger_mtum         8589.253578   8589.253578  \n",
       "           kosef_ktb10y      83555.730704  83555.730704  \n",
       "           kosef_ktb10y_lev  62692.636864  62692.636864  \n",
       "...                                   ...           ...  \n",
       "2021-08-26 kodex_qual_plus   10905.000000  10905.000000  \n",
       "           kodex_value_plus  10330.000000  10330.000000  \n",
       "           arirang_esg        9675.000000   9675.000000  \n",
       "           kodex_dvd_high     9815.000000   9815.000000  \n",
       "           kodex_lowvol      12265.000000  12265.000000  \n",
       "\n",
       "[40625 rows x 5 columns]"
      ]
     },
     "execution_count": 8,
     "metadata": {},
     "output_type": "execute_result"
    }
   ],
   "source": [
    "pkl = pd.DataFrame()\n",
    "pkl['close'] = db.stack()\n",
    "pkl['high'] = db.stack()\n",
    "pkl['low'] = db.stack()\n",
    "pkl['underlying'] = db.stack()\n",
    "pkl['reprice'] = db.stack(); pkl"
   ]
  },
  {
   "cell_type": "code",
   "execution_count": 9,
   "metadata": {},
   "outputs": [],
   "source": [
    "pkl.to_pickle('kr_20210831.pkl')"
   ]
  },
  {
   "cell_type": "code",
   "execution_count": null,
   "metadata": {},
   "outputs": [],
   "source": []
  },
  {
   "cell_type": "code",
   "execution_count": null,
   "metadata": {},
   "outputs": [],
   "source": []
  }
 ],
 "metadata": {
  "kernelspec": {
   "display_name": "Python 3",
   "language": "python",
   "name": "python3"
  },
  "language_info": {
   "codemirror_mode": {
    "name": "ipython",
    "version": 3
   },
   "file_extension": ".py",
   "mimetype": "text/x-python",
   "name": "python",
   "nbconvert_exporter": "python",
   "pygments_lexer": "ipython3",
   "version": "3.8.5"
  }
 },
 "nbformat": 4,
 "nbformat_minor": 2
}
